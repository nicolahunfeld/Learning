{
 "cells": [
  {
   "cell_type": "code",
   "execution_count": 4,
   "metadata": {},
   "outputs": [
    {
     "name": "stdout",
     "output_type": "stream",
     "text": [
      "100\n",
      "20\n",
      "I am from England\n"
     ]
    }
   ],
   "source": [
    "#Functions in Python\n",
    "#The general form of a python function is :\n",
    "#def function_name(arguments):\n",
    "#  {lines telling the function what to do to produce the result}\n",
    "#  return result\n",
    "\n",
    "\n",
    "# let's consider producing a function that returns x^2\n",
    "def squared(x):\n",
    "    result = x**2\n",
    "    return result\n",
    "\n",
    "print(squared(10))\n",
    "\n",
    "# let's consider producing a function that returns x^2+y^2\n",
    "def squared2(x,y):\n",
    "    result = x**2 + y**2\n",
    "    return result\n",
    "\n",
    "print(squared2(4,2))\n",
    "\n",
    "# A new function\n",
    "def born(country):\n",
    "    return print(\"I am from \" + country)\n",
    "\n",
    "born(\"England\")\n"
   ]
  },
  {
   "cell_type": "code",
   "execution_count": null,
   "metadata": {},
   "outputs": [],
   "source": []
  }
 ],
 "metadata": {
  "kernelspec": {
   "display_name": "Python 3",
   "language": "python",
   "name": "python3"
  },
  "language_info": {
   "codemirror_mode": {
    "name": "ipython",
    "version": 3
   },
   "file_extension": ".py",
   "mimetype": "text/x-python",
   "name": "python",
   "nbconvert_exporter": "python",
   "pygments_lexer": "ipython3",
   "version": "3.8.5"
  }
 },
 "nbformat": 4,
 "nbformat_minor": 4
}
