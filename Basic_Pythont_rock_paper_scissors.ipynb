{
 "cells": [
  {
   "cell_type": "code",
   "execution_count": 1,
   "metadata": {},
   "outputs": [
    {
     "name": "stdout",
     "output_type": "stream",
     "text": [
      "rock, paper or scissors? (or end the game) rock\n",
      "Tie!\n",
      "rock, paper or scissors? (or end the game) paper\n",
      "Tie!\n",
      "rock, paper or scissors? (or end the game) scissors\n",
      "You lose! rock beats scissors\n",
      "rock, paper or scissors? (or end the game) eje\n",
      "Check your spelling\n",
      "rock, paper or scissors? (or end the game) paper\n",
      "Tie!\n",
      "rock, paper or scissors? (or end the game) end the game\n",
      "The game has ended\n"
     ]
    }
   ],
   "source": [
    "# Rock, Paper , Scissors Game\n",
    "from random import randint\n",
    "\n",
    "# moves for the Player\n",
    "moves=[\"rock\",\"paper\",\"scissors\"]\n",
    "while True:  #true muss großgeschrieben werden!\n",
    "    computer = moves[randint(0,2)] #computer sucht sich random ein element von der move liste \n",
    "    player = input(\"rock, paper or scissors? (or end the game) \").lower()     #(0,2) weil wir mit 0 anfangen\n",
    "    if player == \"end the game\":\n",
    "        print(\"The game has ended\")\n",
    "        break\n",
    "    elif player == computer:\n",
    "        print(\"Tie!\")\n",
    "    elif player == \"rock\":\n",
    "        if computer == \"paper\":\n",
    "            print(\"You lose!\", computer, \"beats\", player)\n",
    "        else:\n",
    "            print( \"You win!\", player ,\"beats\", computer)\n",
    "    elif player == \"paper\":\n",
    "        if computer == \"scissors\":\n",
    "            print(\"You lose!\", computer , \"beats\", player)\n",
    "        else:\n",
    "            print( \"You win!\", player ,\"beats\", computer)\n",
    "    elif player == \"scissors\":\n",
    "        if computer == \"rock\":\n",
    "            print(\"You lose!\", computer , \"beats\", player)\n",
    "        else:\n",
    "            print( \"You win!\", player ,\"beats\", computer)\n",
    "    else:\n",
    "        print(\"Check your spelling\")\n",
    "        \n",
    "    \n",
    "    "
   ]
  },
  {
   "cell_type": "code",
   "execution_count": null,
   "metadata": {},
   "outputs": [],
   "source": [
    " "
   ]
  }
 ],
 "metadata": {
  "kernelspec": {
   "display_name": "Python 3",
   "language": "python",
   "name": "python3"
  },
  "language_info": {
   "codemirror_mode": {
    "name": "ipython",
    "version": 3
   },
   "file_extension": ".py",
   "mimetype": "text/x-python",
   "name": "python",
   "nbconvert_exporter": "python",
   "pygments_lexer": "ipython3",
   "version": "3.8.5"
  }
 },
 "nbformat": 4,
 "nbformat_minor": 4
}
