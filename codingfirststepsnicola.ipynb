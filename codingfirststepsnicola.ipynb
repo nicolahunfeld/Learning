{
 "cells": [
  {
   "cell_type": "code",
   "execution_count": 1,
   "metadata": {},
   "outputs": [
    {
     "name": "stderr",
     "output_type": "stream",
     "text": [
      "/Users/nicomasii/CLMM/clmm/theory/__init__.py:35: UserWarning: CLMM Backend requested `ccl' is not available, trying others...\n",
      "  warnings.warn(f\"CLMM Backend requested `{be_conf['name']}' is not available, trying others...\")\n",
      "/Users/nicomasii/CLMM/clmm/theory/__init__.py:45: UserWarning: * NumCosmo BACKEND also not available\n",
      "  warnings.warn(f\"* {be_conf['name']} BACKEND also not available\")\n",
      "/Users/nicomasii/CLMM/clmm/theory/__init__.py:42: UserWarning: * USING cluster_toolkit+astropy BACKEND\n",
      "  warnings.warn(f\"* USING {be_conf['name']} BACKEND\")\n"
     ]
    },
    {
     "data": {
      "text/plain": [
       "'0.9.3'"
      ]
     },
     "execution_count": 1,
     "metadata": {},
     "output_type": "execute_result"
    }
   ],
   "source": [
    "try: import clmm\n",
    "except:\n",
    "    import notebook_install\n",
    "    notebook_install.install_clmm_pipeline(upgrade=False)\n",
    "    import clmm\n",
    "import matplotlib.pyplot as plt\n",
    "import numpy as np\n",
    "from astropy import units\n",
    "plt.rcParams['font.family']=['gothambook','gotham','gotham-book','serif']\n",
    "\n",
    "clmm.__version__"
   ]
  },
  {
   "cell_type": "code",
   "execution_count": 2,
   "metadata": {},
   "outputs": [],
   "source": [
    "import clmm.dataops as da\n",
    "import clmm.galaxycluster as gc\n",
    "import clmm.theory as theory\n",
    "from clmm import Cosmology"
   ]
  },
  {
   "cell_type": "code",
   "execution_count": 3,
   "metadata": {},
   "outputs": [],
   "source": [
    "from clmm.support import mock_data as mock"
   ]
  },
  {
   "cell_type": "code",
   "execution_count": 4,
   "metadata": {},
   "outputs": [],
   "source": [
    "np.random.seed(11)"
   ]
  },
  {
   "cell_type": "code",
   "execution_count": 5,
   "metadata": {},
   "outputs": [],
   "source": [
    "cosmo = Cosmology(H0 = 70.0, Omega_dm0 = 0.27 - 0.045, Omega_b0 = 0.045, Omega_k0 = 0.0)"
   ]
  },
  {
   "cell_type": "code",
   "execution_count": 18,
   "metadata": {},
   "outputs": [
    {
     "name": "stdout",
     "output_type": "stream",
     "text": [
      "10\n",
      "68\n",
      "0.4244978481732238\n",
      "72178\n",
      "(10, 68, 0.0, 0.0, 0.4244978481732238, 72178)\n"
     ]
    }
   ],
   "source": [
    "import random\n",
    "cluster_m = random.randint(10,100) # Masse grenzen für den Cluster\n",
    "logm = np.log(cluster_m)/np.log(10)\n",
    "concentration = random.randint(1,100)\n",
    "cluster_ra = 0.\n",
    "cluster_dec = 0.\n",
    "cluster_z = random.uniform(0.1,0.6)\n",
    "ngals = random.randint(50,100000) \n",
    "cluster_1 = cluster_m, concentration, cluster_ra, cluster_dec, cluster_z, ngals\n",
    "print(cluster_m)\n",
    "print(concentration)\n",
    "print(cluster_z)\n",
    "print(ngals)\n",
    "print(cluster_1)"
   ]
  },
  {
   "cell_type": "code",
   "execution_count": null,
   "metadata": {},
   "outputs": [],
   "source": [
    "import random\n",
    "cluster_m = random.randint(10,100) # Masse grenzen für den Cluster\n",
    "logm = np.log(cluster_m)/np.log(10)\n",
    "concentration = random.randint(1,100)\n",
    "cluster_ra = 0.\n",
    "cluster_dec = 0.\n",
    "cluster_z = random.random()\n",
    "ngals = random.randint(50,100000) \n",
    "cluster_1 = cluster_m, concentration, cluster_ra, cluster_dec, cluster_z, ngals\n",
    "print(cluster_m)\n",
    "print(concentration)\n",
    "print(cluster_z)\n",
    "print(ngals)\n",
    "print(cluster_1)"
   ]
  },
  {
   "cell_type": "code",
   "execution_count": 47,
   "metadata": {},
   "outputs": [
    {
     "name": "stdout",
     "output_type": "stream",
     "text": [
      "(87, 53, 0.0, 0.0, 0.43972956425287446, 79119)\n",
      "(92, 89, 0.0, 0.0, 0.7078220702831265, 60207)\n",
      "(12, 53, 0.0, 0.0, 0.7772737862490712, 8980)\n",
      "(77, 59, 0.0, 0.0, 0.5141896791820082, 17982)\n",
      "(32, 81, 0.0, 0.0, 0.23247414306568914, 72157)\n",
      "59\n"
     ]
    }
   ],
   "source": [
    "for k in range(6):\n",
    "    cluster_m = random.randint(10,100) # Masse grenzen für den Cluster\n",
    "    logm = np.log(cluster_m)/np.log(10)\n",
    "    concentration = random.randint(1,100)\n",
    "    cluster_ra = 0.\n",
    "    cluster_dec = 0.\n",
    "    cluster_z = random.random()\n",
    "    ngals = random.randint(50,100000)\n",
    "    exec(f'cluster_m_{k} = cluster_m')\n",
    "    exec(f'concentration_{k} = concentration')\n",
    "    exec(f'cluster_ra_{k} = cluster_ra')\n",
    "    exec(f'cluster__dec_{k} = cluster_dec')\n",
    "    exec(f'cluster__z_{k} = cluster_z')\n",
    "    exec(f'ngals_{k} = ngals')\n",
    "    exec(f'cluster_{k} = cluster_m, concentration, cluster_ra, cluster_dec, cluster_z, ngals')\n",
    "   \n",
    "print(cluster_1)\n",
    "print(cluster_2)\n",
    "print(cluster_3)\n",
    "print(cluster_4)\n",
    "print(cluster_5)\n",
    "print(concentration_4)"
   ]
  },
  {
   "cell_type": "code",
   "execution_count": 44,
   "metadata": {},
   "outputs": [
    {
     "ename": "SyntaxError",
     "evalue": "invalid syntax (<ipython-input-44-5bed38da7217>, line 2)",
     "output_type": "error",
     "traceback": [
      "\u001b[0;36m  File \u001b[0;32m\"<ipython-input-44-5bed38da7217>\"\u001b[0;36m, line \u001b[0;32m2\u001b[0m\n\u001b[0;31m    exec(f'ideal_data_{k} = mock.generate_galaxy_catalog_{k}(cluster_m_, cluster_z, concentration, cosmo, 'chang13', zsrc_min = cluster_z + 0.1, ngals=ngals)')\u001b[0m\n\u001b[0m                                                                                                           ^\u001b[0m\n\u001b[0;31mSyntaxError\u001b[0m\u001b[0;31m:\u001b[0m invalid syntax\n"
     ]
    }
   ],
   "source": [
    "for k in range(6):\n",
    "    exec(f'ideal_data_{k} = mock.generate_galaxy_catalog_{k}(cluster_m_, cluster_z, concentration{, cosmo, 'chang13', zsrc_min = cluster_z_{k} + 0.1, ngals_{k}=ngals_{k})')\n",
    "\n"
   ]
  },
  {
   "cell_type": "code",
   "execution_count": null,
   "metadata": {},
   "outputs": [],
   "source": []
  }
 ],
 "metadata": {
  "kernelspec": {
   "display_name": "Python 3",
   "language": "python",
   "name": "python3"
  },
  "language_info": {
   "codemirror_mode": {
    "name": "ipython",
    "version": 3
   },
   "file_extension": ".py",
   "mimetype": "text/x-python",
   "name": "python",
   "nbconvert_exporter": "python",
   "pygments_lexer": "ipython3",
   "version": "3.8.5"
  }
 },
 "nbformat": 4,
 "nbformat_minor": 4
}
