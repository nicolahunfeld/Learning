{
 "cells": [
  {
   "cell_type": "code",
   "execution_count": 4,
   "metadata": {},
   "outputs": [
    {
     "name": "stdout",
     "output_type": "stream",
     "text": [
      "NUJUQLUEZE\n",
      "XvFmBhAzAy\n"
     ]
    }
   ],
   "source": [
    "#random password generator\n",
    "\n",
    "#import relevant modules\n",
    "from random import randint # so kann man ranint alleine schreiben ohne ramdom.randint\n",
    "\n",
    "#all uppercase password\n",
    "password = \"\"\n",
    "for i in range(10): # how long should the passowrd be\n",
    "    i = chr(randint(65, 90)) #sucht sich random großbuchstaben auzs\n",
    "    password = str(password) + i # addiert die einzelnen buchstaben zu einem passwort bis 10 buchstaben\n",
    "    \n",
    "print(password)\n",
    "\n",
    "#upper and lower case password\n",
    "password1 = \"\"\n",
    "for i in range(5): #. wie wiele große buchstaben das passwort haben solll\n",
    "    i = chr(randint(65, 90)) #sucht sich random großbuchstaben auzs\n",
    "    for j in range(5): #. wie wiele kleine buchstaben das passwort haben solll\n",
    "        j= chr(randint(65, 90)).lower() #sucht sich random kleinbuchstaben auzs\n",
    "    password1 = str(password1) + i +j # addiert die einzelnen buchstaben zu einem passwort bis 10 buchstaben\n",
    "    \n",
    "print(password1)"
   ]
  },
  {
   "cell_type": "code",
   "execution_count": null,
   "metadata": {},
   "outputs": [],
   "source": []
  }
 ],
 "metadata": {
  "kernelspec": {
   "display_name": "Python 3",
   "language": "python",
   "name": "python3"
  },
  "language_info": {
   "codemirror_mode": {
    "name": "ipython",
    "version": 3
   },
   "file_extension": ".py",
   "mimetype": "text/x-python",
   "name": "python",
   "nbconvert_exporter": "python",
   "pygments_lexer": "ipython3",
   "version": "3.8.5"
  }
 },
 "nbformat": 4,
 "nbformat_minor": 4
}
