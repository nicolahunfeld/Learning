{
 "cells": [
  {
   "cell_type": "code",
   "execution_count": 2,
   "metadata": {},
   "outputs": [
    {
     "name": "stdout",
     "output_type": "stream",
     "text": [
      "True\n",
      "True\n",
      "<class 'bool'>\n",
      "<class 'str'>\n",
      "True\n",
      "False\n",
      "False\n"
     ]
    }
   ],
   "source": [
    "# Booleans\n",
    "print(True) #Booleans muss man mit großem Buchstaben schreiben\n",
    "print(\"True\")\n",
    "\n",
    "print(type(True))  #This type is a bool\n",
    "print(type(\"Type\"))  #This type is a string\n",
    "\n",
    "#Testing if these statements are correct\n",
    "print(5 == 5)\n",
    "print(6 == 5)\n",
    "\n",
    "#Incorporating the if statement with a boolean\n",
    "x = 11\n",
    "y = 5\n",
    "if x % y == 0:  #% is es teilbar dann 0\n",
    "    print(True)\n",
    "else:\n",
    "    print(False)\n",
    "    "
   ]
  },
  {
   "cell_type": "code",
   "execution_count": 7,
   "metadata": {},
   "outputs": [
    {
     "name": "stdout",
     "output_type": "stream",
     "text": [
      "1\n",
      "2\n",
      "3\n"
     ]
    }
   ],
   "source": [
    "# while loop\n",
    "\n",
    "number = 1\n",
    "while number < 4:\n",
    "    print(number)\n",
    "    if number == 4:\n",
    "        break\n",
    "    number = number + 1  # schleife geht solange weiter bis die zahl 4 ist "
   ]
  },
  {
   "cell_type": "code",
   "execution_count": 8,
   "metadata": {},
   "outputs": [
    {
     "name": "stdout",
     "output_type": "stream",
     "text": [
      "2\n",
      "3\n",
      "number is no longer less than 4\n"
     ]
    }
   ],
   "source": [
    "# incoperating the else statement within the while loop    \n",
    "number = 2\n",
    "while number < 4:\n",
    "    print(number)\n",
    "    number = number+1\n",
    "else:\n",
    "    print (\"number is no longer less than 4\")\n",
    "    "
   ]
  },
  {
   "cell_type": "code",
   "execution_count": 11,
   "metadata": {},
   "outputs": [
    {
     "name": "stdout",
     "output_type": "stream",
     "text": [
      "0 is Zero\n"
     ]
    }
   ],
   "source": [
    "#if statement\n",
    "number = 0\n",
    "if number > 0:\n",
    "    print(number, \"is a Positive Number\")\n",
    "elif number == 0:\n",
    "    print(number, \"is Zero\")\n",
    "else:\n",
    "    print(number, \"is a Negative Number\")"
   ]
  },
  {
   "cell_type": "code",
   "execution_count": null,
   "metadata": {},
   "outputs": [],
   "source": []
  }
 ],
 "metadata": {
  "kernelspec": {
   "display_name": "Python 3",
   "language": "python",
   "name": "python3"
  },
  "language_info": {
   "codemirror_mode": {
    "name": "ipython",
    "version": 3
   },
   "file_extension": ".py",
   "mimetype": "text/x-python",
   "name": "python",
   "nbconvert_exporter": "python",
   "pygments_lexer": "ipython3",
   "version": "3.8.5"
  }
 },
 "nbformat": 4,
 "nbformat_minor": 4
}
