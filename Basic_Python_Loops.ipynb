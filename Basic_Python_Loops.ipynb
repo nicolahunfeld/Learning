{
 "cells": [
  {
   "cell_type": "code",
   "execution_count": 7,
   "metadata": {},
   "outputs": [
    {
     "name": "stdout",
     "output_type": "stream",
     "text": [
      "10\n",
      "13\n",
      "15\n",
      "17\n"
     ]
    }
   ],
   "source": [
    "#Heute Schleifen in Python :)\n",
    "# Liste erstellen\n",
    "my_list=[5,8,10,12]\n",
    "# 5 hinzufügen zu jedem element der Liste\n",
    "#1. for loop\n",
    "for element in my_list:  #der doppelpunkt ist wichtig!\n",
    "    element = element + 5 \n",
    "    print(element)  #muss in der for schleife stehen! damit jedes element angezeigt wird"
   ]
  },
  {
   "cell_type": "code",
   "execution_count": 6,
   "metadata": {},
   "outputs": [
    {
     "name": "stdout",
     "output_type": "stream",
     "text": [
      "17\n"
     ]
    }
   ],
   "source": [
    "for element in my_list:  #der doppelpunkt ist wichtig!\n",
    "    element = element + 5 \n",
    "print(element)  #steht es nicht in der schleife (gleiche höhe wie for) printed es nur das letze element\n"
   ]
  },
  {
   "cell_type": "code",
   "execution_count": 10,
   "metadata": {},
   "outputs": [
    {
     "name": "stdout",
     "output_type": "stream",
     "text": [
      "a ist nicht teilbar durch 2\n"
     ]
    }
   ],
   "source": [
    "#jetzt if schleife!\n",
    "a = 17\n",
    "if a % 2 == 0:  #== heißt exact % sorgt dafür wenn es durch 2 teilbar ist ist a%2==0 !\n",
    "    print(\"a ist teilbar durch 2\")\n",
    "else: \n",
    "    print(\"a ist nicht teilbar durch 2\")\n",
    "    "
   ]
  },
  {
   "cell_type": "code",
   "execution_count": null,
   "metadata": {},
   "outputs": [],
   "source": []
  }
 ],
 "metadata": {
  "kernelspec": {
   "display_name": "Python 3",
   "language": "python",
   "name": "python3"
  },
  "language_info": {
   "codemirror_mode": {
    "name": "ipython",
    "version": 3
   },
   "file_extension": ".py",
   "mimetype": "text/x-python",
   "name": "python",
   "nbconvert_exporter": "python",
   "pygments_lexer": "ipython3",
   "version": "3.8.5"
  }
 },
 "nbformat": 4,
 "nbformat_minor": 4
}
