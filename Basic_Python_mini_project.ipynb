{
 "cells": [
  {
   "cell_type": "code",
   "execution_count": 1,
   "metadata": {
    "scrolled": true
   },
   "outputs": [
    {
     "name": "stdout",
     "output_type": "stream",
     "text": [
      "Enter number of Exams: 4\n",
      "4\n"
     ]
    }
   ],
   "source": [
    "# weighted exam score average\n",
    "#entering how many exams you have done\n",
    "exams = int(input(\"Enter number of Exams: \"))\n",
    "print(exams)"
   ]
  },
  {
   "cell_type": "code",
   "execution_count": 2,
   "metadata": {},
   "outputs": [
    {
     "name": "stdout",
     "output_type": "stream",
     "text": [
      "Enter how many credits these exams cover: 45\n",
      "45\n"
     ]
    }
   ],
   "source": [
    "#how many credits did you do over the year?\n",
    "total_credits = int(input(\"Enter how many credits these exams cover: \"))\n",
    "print(total_credits)\n"
   ]
  },
  {
   "cell_type": "code",
   "execution_count": null,
   "metadata": {},
   "outputs": [],
   "source": [
    "average = 0  #muss null sein damit es nachher addiert werden kann die einzelnen exams (prozentual)\n",
    "for exam in range(exams):\n",
    "    score = int(input(\"Enter exam score: \"))\n",
    "    exam_credits = int(input(\"Enter how many credits this exam covered:\"))\n",
    "    average = average + score * exam_credits / total_credits\n",
    "print(\"Your average is\", average)"
   ]
  },
  {
   "cell_type": "code",
   "execution_count": null,
   "metadata": {},
   "outputs": [],
   "source": []
  }
 ],
 "metadata": {
  "kernelspec": {
   "display_name": "Python 3",
   "language": "python",
   "name": "python3"
  },
  "language_info": {
   "codemirror_mode": {
    "name": "ipython",
    "version": 3
   },
   "file_extension": ".py",
   "mimetype": "text/x-python",
   "name": "python",
   "nbconvert_exporter": "python",
   "pygments_lexer": "ipython3",
   "version": "3.8.5"
  }
 },
 "nbformat": 4,
 "nbformat_minor": 4
}
