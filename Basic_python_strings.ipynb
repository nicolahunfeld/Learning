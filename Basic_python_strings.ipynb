{
 "cells": [
  {
   "cell_type": "code",
   "execution_count": 7,
   "metadata": {},
   "outputs": [
    {
     "name": "stdout",
     "output_type": "stream",
     "text": [
      "Hello, world!\n",
      "<class 'str'>\n",
      "Hello Nicola\n",
      "NicolaNicolaNicola\n",
      "Hello NicolaNicolaNicola\n",
      "Hello NicolaHello NicolaHello Nicola\n"
     ]
    }
   ],
   "source": [
    "#Strings\n",
    "\n",
    "#We have already covered strings, integers, floats, booleans and lists\n",
    "\n",
    "#Integers, floats and booleans are considered to be simple data types\n",
    "#They cannot be broken down\n",
    "\n",
    "#List and strings are different! They are made up of smaller pieces which can be broken down\n",
    "\n",
    "print(\"Hello, world!\")\n",
    "print(type(\"Hello, world!\"))\n",
    "\n",
    "#Operations on strings\n",
    "#Addition sign concatenation\n",
    "Greeting = \"Hello \"\n",
    "Name = \"Nicola\"\n",
    "\n",
    "print(Greeting + Name)\n",
    "\n",
    "# * operator\n",
    "print(Name*3)\n",
    "print(Greeting + Name*3)\n",
    "print((Greeting + Name)*3)\n",
    "\n",
    "\n"
   ]
  },
  {
   "cell_type": "code",
   "execution_count": 10,
   "metadata": {},
   "outputs": [
    {
     "name": "stdout",
     "output_type": "stream",
     "text": [
      "a\n",
      "Bd\n"
     ]
    }
   ],
   "source": [
    "#Index Operator\n",
    "Name = \"Brad\"\n",
    "print(Name[2]) #druckt das 3 element aus weil es ja von 0 anfängt zu zählen\n",
    "print(Name[0] + Name[3])\n"
   ]
  },
  {
   "cell_type": "code",
   "execution_count": 12,
   "metadata": {},
   "outputs": [
    {
     "name": "stdout",
     "output_type": "stream",
     "text": [
      "Br\n",
      "Br\n"
     ]
    }
   ],
   "source": [
    "#Slicing strings\n",
    "print(Name[0:2]) #geht vom 1 element bis zu dem in der klammer minus 1 !\n",
    "print(Name[:2]) # wenn man nichts eingibt fängt er bein 1 element an\n",
    "print(Name[2:]) # wenn man nichts eingibt fgeht er bis zum letzten element\n"
   ]
  },
  {
   "cell_type": "code",
   "execution_count": 20,
   "metadata": {},
   "outputs": [
    {
     "name": "stdout",
     "output_type": "stream",
     "text": [
      "nicola\n",
      "NICOLA\n",
      "1\n",
      "Nicoda\n",
      "Nicoda\n",
      "6\n",
      "Your name : tabea\n",
      "Hello tabea\n"
     ]
    }
   ],
   "source": [
    "# Lowercase and Uppercase\n",
    "Name = \"Nicola\"\n",
    "print(Name.lower()) #alles kleingeschrieben\n",
    "print(Name.upper()) #alles großgeschrieben\n",
    "\n",
    "#count how many times a character appears in a string\n",
    "print(Name.count(\"l\"))\n",
    "\n",
    "#Replace specific characters with other characters\n",
    "print(Name.replace(\"l\",\"d\"))\n",
    "Name = \"Nicola\"\n",
    "New_Name = Name.replace(\"l\",\"d\")\n",
    "print(New_Name)\n",
    "\n",
    "#finding the length of a string\n",
    "Name =\"Nicola\"\n",
    "print(len(Name))\n",
    "your_name= input(\"Your name : \")\n",
    "hello = \"Hello {}\".format(your_name)\n",
    "print(hello)"
   ]
  },
  {
   "cell_type": "code",
   "execution_count": 27,
   "metadata": {},
   "outputs": [
    {
     "name": "stdout",
     "output_type": "stream",
     "text": [
      "True\n",
      "48\n",
      "111\n",
      "N\n",
      "True\n",
      "True\n",
      "OLLEH\n"
     ]
    }
   ],
   "source": [
    "#Each letter in python is assigned to a specific number!\n",
    "print(\"orange\"  < \"strawberry\")\n",
    "print(ord(\"0\")) #groß und kleinschreibung zählt!\n",
    "print(ord(\"o\"))\n",
    "print(chr(78))\n",
    "\n",
    "#we can peform math on strings\n",
    "\n",
    "#in and not operators\n",
    "fruit= \"banana\"\n",
    "print(\"a\" in fruit) #sagt mir ob a in banana ist\n",
    "print(\"s\" not in fruit) #sagt mir ob es richtig ist das s nicht in banana ist\n",
    "\n",
    "\n",
    "#incorporate a few things we've learnt so far\n",
    "x=\"hello\"\n",
    "y=\"\"\n",
    "for character in x:\n",
    "    y = character.upper() + y  #scheibt hello rückwärts\n",
    "print(y)\n",
    "\n"
   ]
  },
  {
   "cell_type": "code",
   "execution_count": null,
   "metadata": {},
   "outputs": [],
   "source": []
  }
 ],
 "metadata": {
  "kernelspec": {
   "display_name": "Python 3",
   "language": "python",
   "name": "python3"
  },
  "language_info": {
   "codemirror_mode": {
    "name": "ipython",
    "version": 3
   },
   "file_extension": ".py",
   "mimetype": "text/x-python",
   "name": "python",
   "nbconvert_exporter": "python",
   "pygments_lexer": "ipython3",
   "version": "3.8.5"
  }
 },
 "nbformat": 4,
 "nbformat_minor": 4
}
