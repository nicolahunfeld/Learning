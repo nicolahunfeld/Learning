{
 "cells": [
  {
   "cell_type": "code",
   "execution_count": 9,
   "metadata": {},
   "outputs": [
    {
     "name": "stdout",
     "output_type": "stream",
     "text": [
      "<class 'str'>\n",
      "<class 'int'>\n",
      "<class 'float'>\n",
      "<class 'bool'>\n",
      "4.72 4\n",
      "4.05 4\n",
      "4.72 4 5\n",
      "12345 12345\n",
      "<class 'str'>\n",
      "<class 'int'>\n",
      "18.0\n",
      "12345.0\n",
      "18\n",
      "19.5\n",
      "<class 'str'>\n",
      "True\n"
     ]
    }
   ],
   "source": [
    "#python types\n",
    "\n",
    "#Basic types in python!\n",
    "print(type(\"Hello\"))\n",
    "print(type(13))\n",
    "print(type(4.72))\n",
    "print(type(True))\n",
    "\n",
    "#moving to integers\n",
    "print(4.72, int(4.72)) #das kommando int rundet nicht !\n",
    "print(4.05, int(4.05))\n",
    "\n",
    "#Rounding up!\n",
    "print(4.72, int(4.72), int(round(4.72)))\n",
    "\n",
    "#moving strings to int\n",
    "\n",
    "print(\"12345\", int(\"12345\"))\n",
    "print(type(\"12345\"))\n",
    "print(type(int(\"12345\")))\n",
    "\n",
    "#print(\"hello world\", int(\"hello world\")) #geht nicht!\n",
    "\n",
    "print(float(18))\n",
    "print(float(\"12345\"))\n",
    "\n",
    "# Moving to strings\n",
    "print(str(18))\n",
    "print(str(19.5))\n",
    "print(type(str(19.5)))\n",
    "\n",
    "\n",
    "\n"
   ]
  },
  {
   "cell_type": "code",
   "execution_count": 14,
   "metadata": {},
   "outputs": [
    {
     "name": "stdout",
     "output_type": "stream",
     "text": [
      "True\n",
      "True\n",
      "False\n",
      "False\n",
      "True\n"
     ]
    }
   ],
   "source": [
    "#logical operators\n",
    "#There are three different logical operators; 'and', 'or' , 'not'\n",
    "\n",
    "x=6\n",
    "print(x > 0)\n",
    "print(x > 0 and x < 10)\n",
    "print(x > 0 and x < 5)\n",
    "\n",
    "y= 15\n",
    "print(y % 2 == 0) #ist y durch zwei teilbar? (also ist der rest 0 beim teilen)\n",
    "print(y % 2 == 0 or y % 3 == 0)\n",
    "\n"
   ]
  },
  {
   "cell_type": "code",
   "execution_count": null,
   "metadata": {},
   "outputs": [],
   "source": []
  }
 ],
 "metadata": {
  "kernelspec": {
   "display_name": "Python 3",
   "language": "python",
   "name": "python3"
  },
  "language_info": {
   "codemirror_mode": {
    "name": "ipython",
    "version": 3
   },
   "file_extension": ".py",
   "mimetype": "text/x-python",
   "name": "python",
   "nbconvert_exporter": "python",
   "pygments_lexer": "ipython3",
   "version": "3.8.5"
  }
 },
 "nbformat": 4,
 "nbformat_minor": 4
}
