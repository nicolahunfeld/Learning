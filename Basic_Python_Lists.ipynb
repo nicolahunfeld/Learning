{
 "cells": [
  {
   "cell_type": "code",
   "execution_count": 2,
   "metadata": {},
   "outputs": [
    {
     "name": "stdout",
     "output_type": "stream",
     "text": [
      "[1, 2, 3, 4, 5, 6]\n",
      "[1, 2, 3, 4, 5]\n"
     ]
    }
   ],
   "source": [
    "my_list1=[1,2,3,4,5,6]  #Listen müssen in Rechteckigen Klammern\n",
    "my_list2=list(range(1,6))  #range command geht nur bis 6-1 !\n",
    "print(my_list1)\n",
    "print(my_list2)"
   ]
  },
  {
   "cell_type": "code",
   "execution_count": 3,
   "metadata": {},
   "outputs": [
    {
     "name": "stdout",
     "output_type": "stream",
     "text": [
      "[1, 2, 3, 4, 5, 6]\n",
      "[1, 2, 3, 4, 5, 6]\n"
     ]
    }
   ],
   "source": [
    "my_list1=[1,2,3,4,5,6]\n",
    "my_list2=list(range(1,7))  #range command geht nur bis 6-1 !\n",
    "print(my_list1)\n",
    "print(my_list2)"
   ]
  },
  {
   "cell_type": "code",
   "execution_count": 5,
   "metadata": {},
   "outputs": [
    {
     "name": "stdout",
     "output_type": "stream",
     "text": [
      "[1, 11, 21, 31, 41, 51, 61, 71, 81, 91]\n"
     ]
    }
   ],
   "source": [
    "\n",
    "my_list3=list(range(1,101,10))  #maximal 3 Argumente! \n",
    "#Das dritte Argument sagt in welchen schritten man gehen soll also hier 10er schritte\n",
    "\n",
    "print(my_list3)\n"
   ]
  },
  {
   "cell_type": "code",
   "execution_count": 9,
   "metadata": {},
   "outputs": [
    {
     "name": "stdout",
     "output_type": "stream",
     "text": [
      "<class 'list'>\n",
      "<class 'set'>\n",
      "<class 'tuple'>\n"
     ]
    }
   ],
   "source": [
    "my_list1=[1,2,3,4,5,6]  #Listen müssen in Rechteckigen Klammern\n",
    "my_list4={1,2,3,4,5,6}  #mit geschweiften Klammern wäre es ein set\n",
    "my_list5=(1,2,3,4,5,6)  #mit normalen Klammern wäre es ein tuple\n",
    "\n",
    "print(type(my_list1))\n",
    "print(type(my_list4))\n",
    "print(type(my_list5))"
   ]
  },
  {
   "cell_type": "code",
   "execution_count": 12,
   "metadata": {},
   "outputs": [
    {
     "name": "stdout",
     "output_type": "stream",
     "text": [
      "3\n",
      "1\n"
     ]
    }
   ],
   "source": [
    "#Operationen mit Listen:\n",
    "print(my_list1[2])  # Jetzt zeigt es mir das dritte Element in der Liste da die zählung bei 0 beginnt!\n",
    "print(my_list1[0])  #Zeigt also das erste Element der Liste"
   ]
  },
  {
   "cell_type": "code",
   "execution_count": 14,
   "metadata": {},
   "outputs": [
    {
     "name": "stdout",
     "output_type": "stream",
     "text": [
      "6\n",
      "5\n"
     ]
    }
   ],
   "source": [
    "print(my_list1[-1])  #gibt das Letzte argument \n",
    "print(my_list1[-2])  #gibt das vorletze Element usw..."
   ]
  },
  {
   "cell_type": "code",
   "execution_count": 15,
   "metadata": {},
   "outputs": [
    {
     "name": "stdout",
     "output_type": "stream",
     "text": [
      "[2, 3, 4]\n"
     ]
    }
   ],
   "source": [
    "#Lets create a slice :)\n",
    "print(my_list1[1:4]) #geht vom 2 bis zum einschließlich vierten Element! \n",
    "#Auch wenn die 4 eigentich für das 5 Element steht\n"
   ]
  },
  {
   "cell_type": "code",
   "execution_count": 16,
   "metadata": {},
   "outputs": [
    {
     "name": "stdout",
     "output_type": "stream",
     "text": [
      "6\n"
     ]
    }
   ],
   "source": [
    "#Wie bekommt man die Anzahl der Elemente in der Liste?\n",
    "print(len(my_list1))"
   ]
  },
  {
   "cell_type": "code",
   "execution_count": 17,
   "metadata": {},
   "outputs": [
    {
     "name": "stdout",
     "output_type": "stream",
     "text": [
      "6\n",
      "1\n"
     ]
    }
   ],
   "source": [
    "#Maximum und Minimum der Liste?\n",
    "print(max(my_list1))  #Maximum\n",
    "print(min(my_list1))  #Minimum"
   ]
  },
  {
   "cell_type": "code",
   "execution_count": 18,
   "metadata": {},
   "outputs": [
    {
     "name": "stdout",
     "output_type": "stream",
     "text": [
      "[1, 2, 3, 4, 5, 6, 120]\n"
     ]
    }
   ],
   "source": [
    "#Wie fügt man ein Element einer Liste hinzu\n",
    "my_list1.append(120)  #fügt es am Ende der Liste hinzu\n",
    "print(my_list1)\n"
   ]
  },
  {
   "cell_type": "code",
   "execution_count": 19,
   "metadata": {},
   "outputs": [
    {
     "name": "stdout",
     "output_type": "stream",
     "text": [
      "[120, 6, 5, 4, 3, 2, 1]\n"
     ]
    }
   ],
   "source": [
    "#Wie dreht man eine Liste um\n",
    "my_list1.reverse()\n",
    "print(my_list1)"
   ]
  },
  {
   "cell_type": "code",
   "execution_count": 21,
   "metadata": {},
   "outputs": [
    {
     "name": "stdout",
     "output_type": "stream",
     "text": [
      "[120, 6, 5, 4, 3, 2, 1, 10, 20, 30, 40, 50, 60]\n",
      "[10, 20, 30, 40, 50, 60, 120, 6, 5, 4, 3, 2, 1]\n"
     ]
    }
   ],
   "source": [
    "#Zwei Listen zusammenfügen\n",
    "my_list6=[10,20,30,40,50,60]\n",
    "print(my_list1+my_list6)  #python zeigt die Werte der Liste nacheinander und sortiert oder addiert sie nicht \n",
    "print(my_list6+my_list1)  #wie man sieht hier umgedrehte reigenfolge wie er die listen anzeigt"
   ]
  },
  {
   "cell_type": "code",
   "execution_count": null,
   "metadata": {},
   "outputs": [],
   "source": []
  }
 ],
 "metadata": {
  "kernelspec": {
   "display_name": "Python 3",
   "language": "python",
   "name": "python3"
  },
  "language_info": {
   "codemirror_mode": {
    "name": "ipython",
    "version": 3
   },
   "file_extension": ".py",
   "mimetype": "text/x-python",
   "name": "python",
   "nbconvert_exporter": "python",
   "pygments_lexer": "ipython3",
   "version": "3.8.5"
  }
 },
 "nbformat": 4,
 "nbformat_minor": 4
}
