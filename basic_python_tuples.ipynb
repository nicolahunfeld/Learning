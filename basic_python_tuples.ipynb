{
 "cells": [
  {
   "cell_type": "code",
   "execution_count": 1,
   "metadata": {},
   "outputs": [
    {
     "name": "stdout",
     "output_type": "stream",
     "text": [
      "<class 'tuple'>\n",
      "<class 'list'>\n",
      "['Strawberries', 4, 'Bananas', 5, 'Oranges', 6]\n"
     ]
    }
   ],
   "source": [
    "#tuples in python\n",
    "\n",
    "# conventially, tuples look like lists\n",
    "Fruit=(\"Apples\", 4,\"Bananas\", 5,\"Oranges\", 6) # tuples sind mit () klammern\n",
    "print(type(Fruit))\n",
    "List_of_Fruit=[\"Apples\", 4,\"Bananas\", 5,\"Oranges\", 6] #lists sind mit [] klammern\n",
    "print(type(List_of_Fruit))\n",
    "\n",
    "#we can modify elements in a list\n",
    "List_of_Fruit[0] = \"Strawberries\" # strawberries anstatt apples\n",
    "print(List_of_Fruit)\n"
   ]
  },
  {
   "cell_type": "code",
   "execution_count": 2,
   "metadata": {},
   "outputs": [
    {
     "ename": "TypeError",
     "evalue": "'tuple' object does not support item assignment",
     "output_type": "error",
     "traceback": [
      "\u001b[0;31m---------------------------------------------------------------------------\u001b[0m",
      "\u001b[0;31mTypeError\u001b[0m                                 Traceback (most recent call last)",
      "\u001b[0;32m<ipython-input-2-5b34312a8271>\u001b[0m in \u001b[0;36m<module>\u001b[0;34m\u001b[0m\n\u001b[1;32m      1\u001b[0m \u001b[0;31m# we can't modify elements in a tuple ... deswegen kommt eine fehlermeldung\u001b[0m\u001b[0;34m\u001b[0m\u001b[0;34m\u001b[0m\u001b[0;34m\u001b[0m\u001b[0m\n\u001b[0;32m----> 2\u001b[0;31m \u001b[0mFruit\u001b[0m\u001b[0;34m[\u001b[0m\u001b[0;36m0\u001b[0m\u001b[0;34m]\u001b[0m\u001b[0;34m=\u001b[0m\u001b[0;34m\"turkey\"\u001b[0m\u001b[0;34m\u001b[0m\u001b[0;34m\u001b[0m\u001b[0m\n\u001b[0m\u001b[1;32m      3\u001b[0m \u001b[0mprint\u001b[0m\u001b[0;34m(\u001b[0m\u001b[0mFruit\u001b[0m\u001b[0;34m)\u001b[0m\u001b[0;34m\u001b[0m\u001b[0;34m\u001b[0m\u001b[0m\n",
      "\u001b[0;31mTypeError\u001b[0m: 'tuple' object does not support item assignment"
     ]
    }
   ],
   "source": [
    "# we can't modify elements in a tuple ... deswegen kommt eine fehlermeldung\n",
    "Fruit[0]=\"turkey\"\n",
    "print(Fruit)\n"
   ]
  },
  {
   "cell_type": "code",
   "execution_count": 3,
   "metadata": {},
   "outputs": [
    {
     "name": "stdout",
     "output_type": "stream",
     "text": [
      "('Apples', 4, 'Bananas')\n",
      "Apples\n",
      "('Apples', 4, 'Bananas', 5, 'Cherries', 10)\n"
     ]
    }
   ],
   "source": [
    "#we can perform simial operations on tuples like we can with lists\n",
    "\n",
    "#slicing tuples\n",
    "print(Fruit[0:3])\n",
    "\n",
    "#recalling elements\n",
    "print(Fruit[0])\n",
    "\n",
    "#concatentation of tuples\n",
    "Fruit=Fruit[0:4]+(\"Cherries\", 10)\n",
    "print(Fruit)\n",
    "\n"
   ]
  },
  {
   "cell_type": "code",
   "execution_count": 4,
   "metadata": {},
   "outputs": [
    {
     "name": "stdout",
     "output_type": "stream",
     "text": [
      "<class 'int'>\n",
      "<class 'tuple'>\n",
      "6\n",
      "<class 'tuple'>\n",
      "<class 'list'>\n",
      "['Apples', 4, 'Bananas', 5, 'Cherries', 10, 'Pears']\n",
      "('Apples', 4, 'Bananas', 5, 'Cherries', 10, 'Pears')\n",
      "<class 'tuple'>\n"
     ]
    }
   ],
   "source": [
    "#tuples with one element\n",
    "x=(5)\n",
    "print(type(x))\n",
    "y=(5,)  #man braucht das komma bei einem element sonst ist es ein integer\n",
    "print(type(y))\n",
    "\n",
    "#we can find the length of a tuple\n",
    "print(len(Fruit))\n",
    "\n",
    "#creating a tuple\n",
    "another_tuple=tuple((\"Hello\", 18, True)) #doppelklammern sind hier wichtig\n",
    "print(type(another_tuple))\n",
    "\n",
    "#converting a tuple to a list and then back to a tuple\n",
    "Fruit =list(Fruit)\n",
    "print(type(Fruit))\n",
    "Fruit.append(\"Pears\")\n",
    "print(Fruit)\n",
    "Fruit=tuple(Fruit)\n",
    "print(Fruit)\n",
    "print(type(Fruit))"
   ]
  },
  {
   "cell_type": "code",
   "execution_count": 5,
   "metadata": {},
   "outputs": [
    {
     "name": "stdout",
     "output_type": "stream",
     "text": [
      "apples\n",
      "bananaa\n"
     ]
    }
   ],
   "source": [
    "#unpacking tuples\n",
    "Fruit=(\"apples\",\"bananaa\",\"pears\",\"oranges\")\n",
    "(one, two, three, four) = Fruit #tulpes brauchen gleiche länge es sei denn. wir haben ein sternchen\n",
    "print(one)\n",
    "print(two)\n",
    "\n"
   ]
  },
  {
   "cell_type": "code",
   "execution_count": 8,
   "metadata": {},
   "outputs": [
    {
     "name": "stdout",
     "output_type": "stream",
     "text": [
      "apples\n",
      "bananaa\n",
      "['pears', 'oranges']\n"
     ]
    }
   ],
   "source": [
    "#unpacking tuples\n",
    "Fruit=(\"apples\",\"bananaa\",\"pears\",\"oranges\")\n",
    "(one, two, *three) = Fruit #sternchen ordnet die übrigen zu (geht auch in der mitte)\n",
    "print(one)\n",
    "print(two)\n",
    "print(three)"
   ]
  },
  {
   "cell_type": "code",
   "execution_count": 9,
   "metadata": {},
   "outputs": [
    {
     "name": "stdout",
     "output_type": "stream",
     "text": [
      "apples\n",
      "bananaa\n",
      "pears\n",
      "oranges\n"
     ]
    }
   ],
   "source": [
    "#incorporate loops within tuples\n",
    "for i in range(len(Fruit)): #zeigt alle elemente in Fruit\n",
    "    print(Fruit[i])\n",
    "    "
   ]
  },
  {
   "cell_type": "code",
   "execution_count": null,
   "metadata": {},
   "outputs": [],
   "source": []
  }
 ],
 "metadata": {
  "kernelspec": {
   "display_name": "Python 3",
   "language": "python",
   "name": "python3"
  },
  "language_info": {
   "codemirror_mode": {
    "name": "ipython",
    "version": 3
   },
   "file_extension": ".py",
   "mimetype": "text/x-python",
   "name": "python",
   "nbconvert_exporter": "python",
   "pygments_lexer": "ipython3",
   "version": "3.8.5"
  }
 },
 "nbformat": 4,
 "nbformat_minor": 4
}
